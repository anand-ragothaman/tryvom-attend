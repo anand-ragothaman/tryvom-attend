{
 "cells": [
  {
   "cell_type": "code",
   "execution_count": null,
   "metadata": {},
   "outputs": [],
   "source": [
    "var = 'http://127.0.0.1:8000/category/category-edit/1/'\n",
    "\n",
    "var2 = '/category/'\n"
   ]
  }
 ],
 "metadata": {
  "language_info": {
   "name": "python"
  }
 },
 "nbformat": 4,
 "nbformat_minor": 2
}
